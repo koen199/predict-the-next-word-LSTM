{
 "cells": [
  {
   "cell_type": "code",
   "execution_count": 14,
   "metadata": {},
   "outputs": [
    {
     "data": {
      "text/plain": [
       "<All keys matched successfully>"
      ]
     },
     "execution_count": 14,
     "metadata": {},
     "output_type": "execute_result"
    }
   ],
   "source": [
    "import torch \n",
    "import train as helper\n",
    "\n",
    "with open('model.net', 'rb') as f:\n",
    "    checkpoint = torch.load(f)\n",
    "\n",
    "loaded = helper.LSTM(input_size=checkpoint['input_size'], hidden_size=checkpoint['hidden_size'], num_layers=checkpoint['num_layers'], dropout=0.0)\n",
    "loaded.load_state_dict(checkpoint['state_dict'])\n",
    "\n",
    "\n",
    "    \n"
   ]
  },
  {
   "cell_type": "code",
   "execution_count": null,
   "metadata": {},
   "outputs": [],
   "source": []
  }
 ],
 "metadata": {
  "kernelspec": {
   "display_name": "Python 3.6.10 64-bit",
   "language": "python",
   "name": "python361064bit4b569118ccd4495b8b8de17434817e98"
  },
  "language_info": {
   "codemirror_mode": {
    "name": "ipython",
    "version": 3
   },
   "file_extension": ".py",
   "mimetype": "text/x-python",
   "name": "python",
   "nbconvert_exporter": "python",
   "pygments_lexer": "ipython3",
   "version": "3.6.10"
  }
 },
 "nbformat": 4,
 "nbformat_minor": 2
}
